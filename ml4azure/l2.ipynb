{
 "cells": [
  {
   "cell_type": "markdown",
   "metadata": {},
   "source": [
    "Standardize sample"
   ]
  },
  {
   "cell_type": "code",
   "execution_count": 19,
   "metadata": {},
   "outputs": [],
   "source": [
    "# (𝑥 − 𝜇)/𝜎\n",
    "def standarize(values, mean, stdd):\n",
    "    if type(values) is not list:\n",
    "        values = [values]\n",
    "    for value in values:\n",
    "        print(f\"{value}: {(value - mean)/stdd}\")\n"
   ]
  },
  {
   "cell_type": "code",
   "execution_count": 20,
   "metadata": {},
   "outputs": [
    {
     "name": "stdout",
     "output_type": "stream",
     "text": [
      "-5: -1.2\n",
      "10: 0.3\n",
      "15: 0.8\n",
      "8: 0.1\n"
     ]
    }
   ],
   "source": [
    "standarize([-5, 10, 15], 7, 10)\n",
    "standarize(8, 7, 10)"
   ]
  },
  {
   "cell_type": "markdown",
   "metadata": {},
   "source": [
    "\n",
    "\n",
    "Normalize sample"
   ]
  },
  {
   "cell_type": "code",
   "execution_count": 24,
   "metadata": {},
   "outputs": [],
   "source": [
    "# (𝑥 − 𝑥𝑚𝑖𝑛)/(𝑥𝑚𝑎𝑥 − 𝑥𝑚𝑖𝑛)\n",
    "def normalize(values):\n",
    "    if type(values) is not list:\n",
    "        values = [values]\n",
    "    vmin, vmax = min(values), max(values)\n",
    "    # catch zero division error\n",
    "    if vmin == vmax:\n",
    "        print(f\"{fmin}: {fmin}\")\n",
    "    for value in values:\n",
    "        print(f\"{value}: {(value - vmin)/(vmax - vmin)}\")"
   ]
  },
  {
   "cell_type": "code",
   "execution_count": 25,
   "metadata": {},
   "outputs": [
    {
     "name": "stdout",
     "output_type": "stream",
     "text": [
      "-5: 0.0\n",
      "10: 0.75\n",
      "15: 1.0\n"
     ]
    }
   ],
   "source": [
    "normalize([-5, 10, 15])"
   ]
  }
 ],
 "metadata": {
  "kernelspec": {
   "display_name": "Python 3",
   "language": "python",
   "name": "python3"
  },
  "language_info": {
   "codemirror_mode": {
    "name": "ipython",
    "version": 3
   },
   "file_extension": ".py",
   "mimetype": "text/x-python",
   "name": "python",
   "nbconvert_exporter": "python",
   "pygments_lexer": "ipython3",
   "version": "3.8.5"
  }
 },
 "nbformat": 4,
 "nbformat_minor": 4
}
